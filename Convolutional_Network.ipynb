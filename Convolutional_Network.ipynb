{
  "nbformat": 4,
  "nbformat_minor": 0,
  "metadata": {
    "colab": {
      "provenance": [],
      "gpuType": "T4",
      "authorship_tag": "ABX9TyM5qYR7Xxu9IU1v3n0ZMyJd",
      "include_colab_link": true
    },
    "kernelspec": {
      "name": "python3",
      "display_name": "Python 3"
    },
    "language_info": {
      "name": "python"
    },
    "accelerator": "GPU"
  },
  "cells": [
    {
      "cell_type": "markdown",
      "metadata": {
        "id": "view-in-github",
        "colab_type": "text"
      },
      "source": [
        "<a href=\"https://colab.research.google.com/github/Parzival-Prime/Fish-vs-Cat-Classifier/blob/main/Convolutional_Network.ipynb\" target=\"_parent\"><img src=\"https://colab.research.google.com/assets/colab-badge.svg\" alt=\"Open In Colab\"/></a>"
      ]
    },
    {
      "cell_type": "code",
      "execution_count": null,
      "metadata": {
        "id": "6ZcZu1Bkzr5I"
      },
      "outputs": [],
      "source": [
        "# !mkdir -p ~/.kaggle\n",
        "# !cp kaggle.json ~/.kaggle/"
      ]
    },
    {
      "cell_type": "code",
      "source": [
        "# !kaggle datasets download zuraiz/fish-vs-cats-imagenet-subdataset"
      ],
      "metadata": {
        "colab": {
          "base_uri": "https://localhost:8080/"
        },
        "id": "irFO28taz8rG",
        "outputId": "3a8e68d8-9bd7-46f5-8f38-240088272981"
      },
      "execution_count": null,
      "outputs": [
        {
          "output_type": "stream",
          "name": "stdout",
          "text": [
            "Warning: Your Kaggle API key is readable by other users on this system! To fix this, you can run 'chmod 600 /root/.kaggle/kaggle.json'\n",
            "Dataset URL: https://www.kaggle.com/datasets/zuraiz/fish-vs-cats-imagenet-subdataset\n",
            "License(s): unknown\n",
            "Downloading fish-vs-cats-imagenet-subdataset.zip to /content\n",
            "  0% 0.00/67.7M [00:00<?, ?B/s]\n",
            "100% 67.7M/67.7M [00:00<00:00, 1.37GB/s]\n"
          ]
        }
      ]
    },
    {
      "cell_type": "code",
      "source": [
        "# import zipfile\n",
        "# zipref = zipfile.ZipFile('fish-vs-cats-imagenet-subdataset.zip', 'r')\n",
        "# zipref.extractall()\n",
        "# zipref.close()"
      ],
      "metadata": {
        "id": "obfxbUpQ0FAa"
      },
      "execution_count": null,
      "outputs": []
    },
    {
      "cell_type": "markdown",
      "source": [
        "### Prepare Dataset"
      ],
      "metadata": {
        "id": "BlaoUYI80i8W"
      }
    },
    {
      "cell_type": "code",
      "source": [
        "import torch\n",
        "import torchvision\n",
        "from torchvision.transforms import v2\n",
        "from torch.utils.data import Dataset, DataLoader\n",
        "import os"
      ],
      "metadata": {
        "id": "2lA4sjkC0cc5"
      },
      "execution_count": null,
      "outputs": []
    },
    {
      "cell_type": "code",
      "source": [
        "train_data_path = os.path.join('Fish-vs-Cats', 'train')\n",
        "test_data_path = os.path.join('Fish-vs-Cats', 'test')\n",
        "val_data_path = os.path.join('Fish-vs-Cats', 'val')"
      ],
      "metadata": {
        "id": "J892MpJR00bW"
      },
      "execution_count": null,
      "outputs": []
    },
    {
      "cell_type": "code",
      "source": [
        "transforms = v2.Compose([\n",
        "    v2.Resize((64, 64)),\n",
        "    v2.ToTensor(),\n",
        "    v2.Normalize(mean=[0.485, 0.456, 0.406],\n",
        "                 std=[0.229, 0.224, 0.225])\n",
        "])"
      ],
      "metadata": {
        "id": "h-t4sI6n1N-O"
      },
      "execution_count": null,
      "outputs": []
    },
    {
      "cell_type": "code",
      "source": [
        "from PIL import Image, UnidentifiedImageError\n",
        "class SafeImageFolder(torchvision.datasets.ImageFolder):\n",
        "  def __getitem__(self, index):\n",
        "    path, target = self.samples[index]\n",
        "    try:\n",
        "      sample = self.loader(path)\n",
        "    except UnidentifiedImageError:\n",
        "      return self.__getitem__((index + 1) % len(self.samples))\n",
        "    if self.transform is not None:\n",
        "      sample = self.transform(sample)\n",
        "    return sample, target"
      ],
      "metadata": {
        "id": "WycyM0_i1wdR"
      },
      "execution_count": null,
      "outputs": []
    },
    {
      "cell_type": "code",
      "source": [
        "train_data = SafeImageFolder(train_data_path, transforms)\n",
        "test_data = SafeImageFolder(test_data_path, transforms)\n",
        "val_data = SafeImageFolder(val_data_path, transforms)"
      ],
      "metadata": {
        "id": "mVjGjdhi3Rqg"
      },
      "execution_count": null,
      "outputs": []
    },
    {
      "cell_type": "code",
      "source": [
        "batch_size = 64\n",
        "train_loader = DataLoader(train_data, batch_size=batch_size, shuffle=True)\n",
        "test_loader = DataLoader(test_data, batch_size=batch_size, shuffle=True)\n",
        "val_loader = DataLoader(val_data, batch_size=batch_size, shuffle=True)"
      ],
      "metadata": {
        "id": "VkNSz5eg9FW9"
      },
      "execution_count": null,
      "outputs": []
    },
    {
      "cell_type": "markdown",
      "source": [
        "## Creating Neural Network"
      ],
      "metadata": {
        "id": "WwSGjTuw3sjM"
      }
    },
    {
      "cell_type": "code",
      "source": [
        "import torch\n",
        "import torch.nn as nn\n",
        "import torch.nn.functional as F\n",
        "import torch.optim as optim"
      ],
      "metadata": {
        "id": "1UHT1DGA3m6Y"
      },
      "execution_count": null,
      "outputs": []
    },
    {
      "cell_type": "code",
      "source": [
        "if torch.cuda.is_available():\n",
        "  device = torch.device('cuda')\n",
        "else:\n",
        "  device = torch.device('cpu')\n",
        "print(device)"
      ],
      "metadata": {
        "colab": {
          "base_uri": "https://localhost:8080/"
        },
        "id": "raHt5fmn3_MO",
        "outputId": "d7bc079d-3238-4a73-85f0-c1a0a6f75b6b"
      },
      "execution_count": null,
      "outputs": [
        {
          "output_type": "stream",
          "name": "stdout",
          "text": [
            "cuda\n"
          ]
        }
      ]
    },
    {
      "cell_type": "code",
      "source": [
        "class CNNNet(nn.Module):\n",
        "  def __init__(self, num_classes=2):\n",
        "    super().__init__()\n",
        "    self.features = nn.Sequential(\n",
        "        nn.Conv2d(in_channels=3, out_channels=64, kernel_size=11, stride=4, padding=2),\n",
        "        nn.ReLU(),\n",
        "        nn.MaxPool2d(kernel_size=3, stride=2),\n",
        "\n",
        "        nn.Conv2d(in_channels=64, out_channels=192, kernel_size=5, padding=2),\n",
        "        nn.ReLU(),\n",
        "        nn.MaxPool2d(kernel_size=3, stride=2),\n",
        "\n",
        "        nn.Conv2d(in_channels=192, out_channels=384, kernel_size=3, padding=1),\n",
        "        nn.ReLU(),\n",
        "\n",
        "        nn.Conv2d(in_channels=384, out_channels=256, kernel_size=3, padding=1),\n",
        "        nn.ReLU(),\n",
        "\n",
        "        nn.Conv2d(in_channels=256, out_channels=256, kernel_size=3, padding=1),\n",
        "        nn.ReLU(),\n",
        "        nn.MaxPool2d(kernel_size=3, stride=2),\n",
        "    )\n",
        "    self.avgpool = nn.AdaptiveAvgPool2d((6, 6))\n",
        "    self.classifier = nn.Sequential(\n",
        "        nn.Dropout(p=0.3),\n",
        "        nn.Linear(in_features=256 * 6 * 6, out_features=4096),\n",
        "        nn.ReLU(),\n",
        "        nn.Dropout(p=0.3),\n",
        "        nn.Linear(in_features=4096, out_features=4096),\n",
        "        nn.ReLU(),\n",
        "        nn.Linear(in_features=4096, out_features=num_classes),\n",
        "    )\n",
        "\n",
        "  def forward(self, x):\n",
        "    x = self.features(x)\n",
        "    x = self.avgpool(x)\n",
        "    x = torch.flatten(x, 1)\n",
        "    x = self.classifier(x)\n",
        "    return x"
      ],
      "metadata": {
        "id": "DlSG_9Yc4Rfi"
      },
      "execution_count": null,
      "outputs": []
    },
    {
      "cell_type": "code",
      "source": [
        "model = CNNNet().to(device)\n",
        "optimizer = optim.Adam(model.parameters(), lr=0.001)\n",
        "criterion = nn.CrossEntropyLoss()\n",
        "epochs = 100"
      ],
      "metadata": {
        "id": "UksMSbvI8IZZ"
      },
      "execution_count": null,
      "outputs": []
    },
    {
      "cell_type": "markdown",
      "source": [
        "## Train Function"
      ],
      "metadata": {
        "id": "fV84p9IZ-B5e"
      }
    },
    {
      "cell_type": "code",
      "source": [
        "def train(model, train_loader, val_loader, optimizer, criterion, epochs, device):\n",
        "  for epoch in range(epochs):\n",
        "    model.train()\n",
        "    training_loss = 0\n",
        "    val_loss = 0\n",
        "    train_correct = 0\n",
        "    train_total = 0\n",
        "    val_correct = 0\n",
        "    val_total = 0\n",
        "\n",
        "    for X_train, y_train in train_loader:\n",
        "      X_train, y_train = X_train.to(device), y_train.to(device)\n",
        "      optimizer.zero_grad()\n",
        "      y_pred = model(X_train)\n",
        "      loss = criterion(y_pred, y_train)\n",
        "      loss.backward()\n",
        "      optimizer.step()\n",
        "      training_loss += loss.data.item()\n",
        "      correct = torch.eq(torch.max(F.softmax(y_pred, dim=1), dim=1)[1], y_train).view(-1)\n",
        "      train_correct += torch.sum(correct).item()\n",
        "      train_total += correct.shape[0]\n",
        "    training_loss /= len(train_loader)\n",
        "\n",
        "    model.eval()\n",
        "    for X_val, y_val in val_loader:\n",
        "      X_val, y_val = X_val.to(device), y_val.to(device)\n",
        "      optimizer.zero_grad()\n",
        "      y_pred = model(X_val)\n",
        "      loss = criterion(y_pred, y_val)\n",
        "      loss.backward()\n",
        "      optimizer.step()\n",
        "      val_loss = loss.data.item()\n",
        "      correct = torch.eq(torch.max(F.softmax(y_pred, dim=1), dim=1)[1], y_val).view(-1)\n",
        "      val_correct += torch.sum(correct).item()\n",
        "      val_total += correct.shape[0]\n",
        "    val_loss /= len(val_loader)\n",
        "\n",
        "    print(f'Epoch: {epoch}, Training Loss: {training_loss:.2f}, Training_accuracy: {((train_correct / train_total) * 100):.2f},  Validation Loss: {val_loss:.2f}, val_accuracy = {((val_correct / val_total) * 100):.2f}%')\n"
      ],
      "metadata": {
        "id": "EJkIPUe--BGV"
      },
      "execution_count": null,
      "outputs": []
    },
    {
      "cell_type": "code",
      "source": [
        "dummy_input = (torch.randn(1, 3, 64, 64)).to(device)  # adjust based on your input image\n",
        "output = model.features(dummy_input)\n",
        "print(output.shape)"
      ],
      "metadata": {
        "colab": {
          "base_uri": "https://localhost:8080/"
        },
        "id": "4VctlHBAIKgo",
        "outputId": "ca87010d-346c-4a9e-c3e3-ae181f2da4cf"
      },
      "execution_count": null,
      "outputs": [
        {
          "output_type": "stream",
          "name": "stdout",
          "text": [
            "torch.Size([1, 256, 1, 1])\n"
          ]
        }
      ]
    },
    {
      "cell_type": "code",
      "source": [
        "train(\n",
        "    model=model,\n",
        "    optimizer=optimizer,\n",
        "    criterion=criterion,\n",
        "    train_loader=train_loader,\n",
        "    val_loader=val_loader,\n",
        "    epochs=epochs,\n",
        "    device=device\n",
        ")"
      ],
      "metadata": {
        "id": "zr2ZHCzf9r0c",
        "colab": {
          "base_uri": "https://localhost:8080/"
        },
        "outputId": "8836e83d-8c18-4039-aafe-74c166a15cb0"
      },
      "execution_count": null,
      "outputs": [
        {
          "output_type": "stream",
          "name": "stdout",
          "text": [
            "Epoch: 0, Training Loss: 1.10, Training_accuracy: 50.99,  Validation Loss: 0.34, val_accuracy = 67.23%\n",
            "Epoch: 1, Training Loss: 0.68, Training_accuracy: 57.18,  Validation Loss: 0.33, val_accuracy = 70.59%\n",
            "Epoch: 2, Training Loss: 0.62, Training_accuracy: 65.97,  Validation Loss: 0.27, val_accuracy = 84.03%\n",
            "Epoch: 3, Training Loss: 0.53, Training_accuracy: 74.50,  Validation Loss: 0.27, val_accuracy = 79.83%\n",
            "Epoch: 4, Training Loss: 0.47, Training_accuracy: 80.07,  Validation Loss: 0.18, val_accuracy = 85.71%\n",
            "Epoch: 5, Training Loss: 0.47, Training_accuracy: 79.58,  Validation Loss: 0.23, val_accuracy = 60.50%\n",
            "Epoch: 6, Training Loss: 0.49, Training_accuracy: 77.72,  Validation Loss: 0.18, val_accuracy = 78.99%\n",
            "Epoch: 7, Training Loss: 0.47, Training_accuracy: 80.69,  Validation Loss: 0.17, val_accuracy = 86.55%\n",
            "Epoch: 8, Training Loss: 0.42, Training_accuracy: 81.56,  Validation Loss: 0.10, val_accuracy = 89.92%\n",
            "Epoch: 9, Training Loss: 0.45, Training_accuracy: 80.07,  Validation Loss: 0.21, val_accuracy = 75.63%\n",
            "Epoch: 10, Training Loss: 0.37, Training_accuracy: 83.04,  Validation Loss: 0.14, val_accuracy = 85.71%\n",
            "Epoch: 11, Training Loss: 0.37, Training_accuracy: 85.89,  Validation Loss: 0.18, val_accuracy = 84.03%\n",
            "Epoch: 12, Training Loss: 0.34, Training_accuracy: 85.27,  Validation Loss: 0.14, val_accuracy = 85.71%\n",
            "Epoch: 13, Training Loss: 0.33, Training_accuracy: 87.38,  Validation Loss: 0.15, val_accuracy = 78.99%\n",
            "Epoch: 14, Training Loss: 0.30, Training_accuracy: 88.49,  Validation Loss: 0.08, val_accuracy = 94.96%\n",
            "Epoch: 15, Training Loss: 0.29, Training_accuracy: 87.87,  Validation Loss: 0.17, val_accuracy = 80.67%\n",
            "Epoch: 16, Training Loss: 0.27, Training_accuracy: 89.60,  Validation Loss: 0.07, val_accuracy = 89.08%\n",
            "Epoch: 17, Training Loss: 0.33, Training_accuracy: 87.00,  Validation Loss: 0.08, val_accuracy = 88.24%\n",
            "Epoch: 18, Training Loss: 0.31, Training_accuracy: 87.38,  Validation Loss: 0.09, val_accuracy = 89.08%\n",
            "Epoch: 19, Training Loss: 0.22, Training_accuracy: 92.08,  Validation Loss: 0.06, val_accuracy = 96.64%\n",
            "Epoch: 20, Training Loss: 0.27, Training_accuracy: 89.11,  Validation Loss: 0.10, val_accuracy = 84.87%\n",
            "Epoch: 21, Training Loss: 0.20, Training_accuracy: 93.56,  Validation Loss: 0.06, val_accuracy = 98.32%\n",
            "Epoch: 22, Training Loss: 0.12, Training_accuracy: 95.67,  Validation Loss: 0.05, val_accuracy = 94.12%\n",
            "Epoch: 23, Training Loss: 0.11, Training_accuracy: 95.42,  Validation Loss: 0.05, val_accuracy = 97.48%\n",
            "Epoch: 24, Training Loss: 0.13, Training_accuracy: 95.30,  Validation Loss: 0.06, val_accuracy = 89.92%\n",
            "Epoch: 25, Training Loss: 0.15, Training_accuracy: 94.31,  Validation Loss: 0.04, val_accuracy = 95.80%\n",
            "Epoch: 26, Training Loss: 0.13, Training_accuracy: 95.30,  Validation Loss: 0.03, val_accuracy = 97.48%\n",
            "Epoch: 27, Training Loss: 0.11, Training_accuracy: 96.16,  Validation Loss: 0.06, val_accuracy = 94.12%\n",
            "Epoch: 28, Training Loss: 0.13, Training_accuracy: 95.42,  Validation Loss: 0.01, val_accuracy = 97.48%\n",
            "Epoch: 29, Training Loss: 0.10, Training_accuracy: 96.66,  Validation Loss: 0.02, val_accuracy = 99.16%\n",
            "Epoch: 30, Training Loss: 0.08, Training_accuracy: 97.90,  Validation Loss: 0.11, val_accuracy = 95.80%\n",
            "Epoch: 31, Training Loss: 0.16, Training_accuracy: 94.43,  Validation Loss: 0.04, val_accuracy = 97.48%\n",
            "Epoch: 32, Training Loss: 0.16, Training_accuracy: 93.69,  Validation Loss: 0.01, val_accuracy = 98.32%\n",
            "Epoch: 33, Training Loss: 0.08, Training_accuracy: 97.52,  Validation Loss: 0.01, val_accuracy = 99.16%\n",
            "Epoch: 34, Training Loss: 0.04, Training_accuracy: 99.26,  Validation Loss: 0.01, val_accuracy = 100.00%\n",
            "Epoch: 35, Training Loss: 0.16, Training_accuracy: 95.30,  Validation Loss: 0.05, val_accuracy = 94.96%\n",
            "Epoch: 36, Training Loss: 0.11, Training_accuracy: 96.04,  Validation Loss: 0.01, val_accuracy = 100.00%\n",
            "Epoch: 37, Training Loss: 0.10, Training_accuracy: 96.91,  Validation Loss: 0.02, val_accuracy = 98.32%\n",
            "Epoch: 38, Training Loss: 0.07, Training_accuracy: 97.52,  Validation Loss: 0.01, val_accuracy = 99.16%\n",
            "Epoch: 39, Training Loss: 0.07, Training_accuracy: 98.14,  Validation Loss: 0.11, val_accuracy = 95.80%\n",
            "Epoch: 40, Training Loss: 0.06, Training_accuracy: 98.27,  Validation Loss: 0.01, val_accuracy = 99.16%\n",
            "Epoch: 41, Training Loss: 0.05, Training_accuracy: 98.76,  Validation Loss: 0.01, val_accuracy = 100.00%\n",
            "Epoch: 42, Training Loss: 0.03, Training_accuracy: 99.13,  Validation Loss: 0.02, val_accuracy = 96.64%\n",
            "Epoch: 43, Training Loss: 0.11, Training_accuracy: 95.67,  Validation Loss: 0.05, val_accuracy = 95.80%\n",
            "Epoch: 44, Training Loss: 0.09, Training_accuracy: 96.66,  Validation Loss: 0.02, val_accuracy = 96.64%\n",
            "Epoch: 45, Training Loss: 0.04, Training_accuracy: 98.89,  Validation Loss: 0.00, val_accuracy = 100.00%\n",
            "Epoch: 46, Training Loss: 0.09, Training_accuracy: 97.03,  Validation Loss: 0.03, val_accuracy = 93.28%\n",
            "Epoch: 47, Training Loss: 0.11, Training_accuracy: 96.16,  Validation Loss: 0.03, val_accuracy = 98.32%\n",
            "Epoch: 48, Training Loss: 0.10, Training_accuracy: 96.91,  Validation Loss: 0.01, val_accuracy = 99.16%\n",
            "Epoch: 49, Training Loss: 0.05, Training_accuracy: 98.39,  Validation Loss: 0.01, val_accuracy = 98.32%\n",
            "Epoch: 50, Training Loss: 0.05, Training_accuracy: 98.64,  Validation Loss: 0.00, val_accuracy = 100.00%\n",
            "Epoch: 51, Training Loss: 0.03, Training_accuracy: 98.64,  Validation Loss: 0.03, val_accuracy = 97.48%\n",
            "Epoch: 52, Training Loss: 0.08, Training_accuracy: 97.77,  Validation Loss: 0.00, val_accuracy = 99.16%\n",
            "Epoch: 53, Training Loss: 0.18, Training_accuracy: 93.69,  Validation Loss: 0.02, val_accuracy = 98.32%\n",
            "Epoch: 54, Training Loss: 0.18, Training_accuracy: 94.18,  Validation Loss: 0.02, val_accuracy = 98.32%\n",
            "Epoch: 55, Training Loss: 0.06, Training_accuracy: 98.39,  Validation Loss: 0.03, val_accuracy = 99.16%\n",
            "Epoch: 56, Training Loss: 0.07, Training_accuracy: 97.65,  Validation Loss: 0.00, val_accuracy = 100.00%\n",
            "Epoch: 57, Training Loss: 0.10, Training_accuracy: 97.28,  Validation Loss: 0.06, val_accuracy = 97.48%\n",
            "Epoch: 58, Training Loss: 0.05, Training_accuracy: 98.02,  Validation Loss: 0.01, val_accuracy = 98.32%\n"
          ]
        },
        {
          "output_type": "stream",
          "name": "stderr",
          "text": [
            "ERROR:root:Internal Python error in the inspect module.\n",
            "Below is the traceback from this internal error.\n",
            "\n",
            "\n",
            "KeyboardInterrupt\n",
            "\n"
          ]
        }
      ]
    },
    {
      "cell_type": "code",
      "source": [
        "from PIL import Image\n",
        "labels = ['cat', 'fish']"
      ],
      "metadata": {
        "id": "wiHmVTPQD59A"
      },
      "execution_count": null,
      "outputs": []
    },
    {
      "cell_type": "code",
      "source": [
        "image = Image.open('cat.jpg')\n",
        "image = transforms(image).unsqueeze(0)\n",
        "image = image.to(device)\n",
        "prediction = model(image)\n",
        "prediction = prediction.argmax()\n",
        "print(labels[prediction])"
      ],
      "metadata": {
        "id": "MdEw9lNgEFVk",
        "colab": {
          "base_uri": "https://localhost:8080/"
        },
        "outputId": "54eb0e95-ca93-4fdb-f001-5a0e7c11b351"
      },
      "execution_count": null,
      "outputs": [
        {
          "output_type": "stream",
          "name": "stdout",
          "text": [
            "cat\n"
          ]
        }
      ]
    },
    {
      "cell_type": "markdown",
      "source": [
        "### Saving Model"
      ],
      "metadata": {
        "id": "KkBaHqEVEfYI"
      }
    },
    {
      "cell_type": "code",
      "source": [
        "torch.save(model, \"fish-vs-cal-classifier.pkl\")"
      ],
      "metadata": {
        "id": "YCfLqfLzEh5y"
      },
      "execution_count": null,
      "outputs": []
    },
    {
      "cell_type": "code",
      "source": [
        "torch.save(model.state_dict(),\"fish-vs-cal-classifier.pth\")"
      ],
      "metadata": {
        "id": "of44DOLMEi7E"
      },
      "execution_count": null,
      "outputs": []
    },
    {
      "cell_type": "code",
      "source": [],
      "metadata": {
        "id": "yjeLZTK8KOW6"
      },
      "execution_count": null,
      "outputs": []
    }
  ]
}