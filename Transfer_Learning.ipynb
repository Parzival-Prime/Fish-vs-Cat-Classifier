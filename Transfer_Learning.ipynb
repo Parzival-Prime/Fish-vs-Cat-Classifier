{
  "nbformat": 4,
  "nbformat_minor": 0,
  "metadata": {
    "colab": {
      "provenance": [],
      "authorship_tag": "ABX9TyO5kMsq/x+v7RDo+F7cUBSs",
      "include_colab_link": true
    },
    "kernelspec": {
      "name": "python3",
      "display_name": "Python 3"
    },
    "language_info": {
      "name": "python"
    }
  },
  "cells": [
    {
      "cell_type": "markdown",
      "metadata": {
        "id": "view-in-github",
        "colab_type": "text"
      },
      "source": [
        "<a href=\"https://colab.research.google.com/github/Parzival-Prime/Fish-vs-Cat-Classifier/blob/main/Transfer_Learning.ipynb\" target=\"_parent\"><img src=\"https://colab.research.google.com/assets/colab-badge.svg\" alt=\"Open In Colab\"/></a>"
      ]
    },
    {
      "cell_type": "code",
      "source": [],
      "metadata": {
        "id": "FAT8zdEEm98G"
      },
      "execution_count": null,
      "outputs": []
    },
    {
      "cell_type": "code",
      "execution_count": null,
      "metadata": {
        "id": "6ZcZu1Bkzr5I"
      },
      "outputs": [],
      "source": [
        "# !mkdir -p ~/.kaggle\n",
        "# !cp kaggle.json ~/.kaggle/"
      ]
    },
    {
      "cell_type": "code",
      "source": [
        "# !kaggle datasets download zuraiz/fish-vs-cats-imagenet-subdataset"
      ],
      "metadata": {
        "colab": {
          "base_uri": "https://localhost:8080/"
        },
        "id": "irFO28taz8rG",
        "outputId": "585e55c8-dbd3-4e46-9284-d92556797a9b"
      },
      "execution_count": null,
      "outputs": [
        {
          "output_type": "stream",
          "name": "stdout",
          "text": [
            "Warning: Your Kaggle API key is readable by other users on this system! To fix this, you can run 'chmod 600 /root/.kaggle/kaggle.json'\n",
            "Dataset URL: https://www.kaggle.com/datasets/zuraiz/fish-vs-cats-imagenet-subdataset\n",
            "License(s): unknown\n",
            "Downloading fish-vs-cats-imagenet-subdataset.zip to /content\n",
            "  0% 0.00/67.7M [00:00<?, ?B/s]\n",
            "100% 67.7M/67.7M [00:00<00:00, 868MB/s]\n"
          ]
        }
      ]
    },
    {
      "cell_type": "code",
      "source": [
        "# import zipfile\n",
        "# zipref = zipfile.ZipFile('fish-vs-cats-imagenet-subdataset.zip', 'r')\n",
        "# zipref.extractall()\n",
        "# zipref.close()"
      ],
      "metadata": {
        "id": "obfxbUpQ0FAa"
      },
      "execution_count": null,
      "outputs": []
    },
    {
      "cell_type": "markdown",
      "source": [
        "### Prepare Dataset"
      ],
      "metadata": {
        "id": "BlaoUYI80i8W"
      }
    },
    {
      "cell_type": "code",
      "source": [
        "import torch\n",
        "import torchvision\n",
        "from torchvision.transforms import v2\n",
        "from torch.utils.data import Dataset, DataLoader\n",
        "import os"
      ],
      "metadata": {
        "id": "2lA4sjkC0cc5"
      },
      "execution_count": null,
      "outputs": []
    },
    {
      "cell_type": "code",
      "source": [
        "train_data_path = os.path.join('Fish-vs-Cats', 'train')\n",
        "test_data_path = os.path.join('Fish-vs-Cats', 'test')\n",
        "val_data_path = os.path.join('Fish-vs-Cats', 'val')"
      ],
      "metadata": {
        "id": "J892MpJR00bW"
      },
      "execution_count": null,
      "outputs": []
    },
    {
      "cell_type": "code",
      "source": [
        "transforms = v2.Compose([\n",
        "    v2.Resize((90, 90)),\n",
        "    v2.ToTensor(),\n",
        "    v2.Normalize(mean=[0.485, 0.456, 0.406],\n",
        "                 std=[0.229, 0.224, 0.225])\n",
        "])"
      ],
      "metadata": {
        "colab": {
          "base_uri": "https://localhost:8080/"
        },
        "id": "h-t4sI6n1N-O",
        "outputId": "1a482f5c-19f7-4830-c1c1-ac08e37e7afc"
      },
      "execution_count": null,
      "outputs": [
        {
          "output_type": "stream",
          "name": "stderr",
          "text": [
            "/usr/local/lib/python3.11/dist-packages/torchvision/transforms/v2/_deprecated.py:42: UserWarning: The transform `ToTensor()` is deprecated and will be removed in a future release. Instead, please use `v2.Compose([v2.ToImage(), v2.ToDtype(torch.float32, scale=True)])`.Output is equivalent up to float precision.\n",
            "  warnings.warn(\n"
          ]
        }
      ]
    },
    {
      "cell_type": "code",
      "source": [
        "from PIL import Image, UnidentifiedImageError\n",
        "class SafeImageFolder(torchvision.datasets.ImageFolder):\n",
        "  def __getitem__(self, index):\n",
        "    path, target = self.samples[index]\n",
        "    try:\n",
        "      sample = self.loader(path)\n",
        "    except UnidentifiedImageError:\n",
        "      return self.__getitem__((index + 1) % len(self.samples))\n",
        "    if self.transfom is not None:\n",
        "      sample = self.transform(sample)\n",
        "    return sample, target"
      ],
      "metadata": {
        "id": "WycyM0_i1wdR"
      },
      "execution_count": null,
      "outputs": []
    },
    {
      "cell_type": "code",
      "source": [
        "train_data = SafeImageFolder(train_data_path, transforms)\n",
        "test_data = SafeImageFolder(test_data_path, transforms)\n",
        "val_data = SafeImageFolder(val_data_path, transforms)"
      ],
      "metadata": {
        "id": "mVjGjdhi3Rqg"
      },
      "execution_count": null,
      "outputs": []
    },
    {
      "cell_type": "code",
      "source": [
        "batch_size = 64\n",
        "train_loader = DataLoader(train_data, batch_size=batch_size, shuffle=True)\n",
        "test_loader = DataLoader(test_data, batch_size=batch_size, shuffle=True)\n",
        "val_loader = DataLoader(val_data, batch_size=batch_size, shuffle=True)"
      ],
      "metadata": {
        "id": "VkNSz5eg9FW9"
      },
      "execution_count": null,
      "outputs": []
    },
    {
      "cell_type": "markdown",
      "source": [
        "## Creating Neural Network"
      ],
      "metadata": {
        "id": "WwSGjTuw3sjM"
      }
    },
    {
      "cell_type": "code",
      "source": [
        "import torch\n",
        "import torch.nn as nn\n",
        "import torch.nn.functional as F\n",
        "import torch.optim as optim\n",
        "from torchvision import models"
      ],
      "metadata": {
        "id": "1UHT1DGA3m6Y"
      },
      "execution_count": null,
      "outputs": []
    },
    {
      "cell_type": "code",
      "source": [
        "if torch.cuda.is_available():\n",
        "  device = torch.device('cuda')\n",
        "else:\n",
        "  device = torch.device('cpu')\n",
        "print(device)"
      ],
      "metadata": {
        "colab": {
          "base_uri": "https://localhost:8080/"
        },
        "id": "raHt5fmn3_MO",
        "outputId": "553386e0-c190-4a33-d10d-1074a877a447"
      },
      "execution_count": null,
      "outputs": [
        {
          "output_type": "stream",
          "name": "stdout",
          "text": [
            "cpu\n"
          ]
        }
      ]
    },
    {
      "cell_type": "code",
      "source": [
        "transfer_model = models.ResNet50(pretrained=True)"
      ],
      "metadata": {
        "id": "yTnYO_1hj70t"
      },
      "execution_count": null,
      "outputs": []
    },
    {
      "cell_type": "code",
      "source": [
        "for name, param in transfer_model.named_parameters():\n",
        "  if \"bn\" not in name:\n",
        "    param.requires_grad = False"
      ],
      "metadata": {
        "id": "SZ02BakDkFQG"
      },
      "execution_count": null,
      "outputs": []
    },
    {
      "cell_type": "code",
      "source": [
        "transfer_model.fc = nn.Sequential(\n",
        "    nn.Linear(transfer_model.fc.in_features, 500),\n",
        "    nn.ReLU(),\n",
        "    nn.Dropout(p=0.3),\n",
        "    nn.Linear(500, 2)\n",
        ")"
      ],
      "metadata": {
        "id": "JliIh4XVkVmD"
      },
      "execution_count": null,
      "outputs": []
    },
    {
      "cell_type": "code",
      "source": [
        "model = CNNNet().to(device)\n",
        "optimizer = optim.Adam(model.parameters(), lr=0.001)\n",
        "criterion = nn.CrossEntropyLoss()\n",
        "epochs = 20"
      ],
      "metadata": {
        "id": "JGp205CpmHBg"
      },
      "execution_count": null,
      "outputs": []
    },
    {
      "cell_type": "code",
      "source": [
        "def train(model, train_loader, val_loader, optimizer, criterion, epochs, device):\n",
        "  for epoch in range(epochs):\n",
        "    model.train()\n",
        "    training_loss = 0\n",
        "    val_loss = 0\n",
        "    train_correct = 0\n",
        "    train_total = 0\n",
        "    val_correct = 0\n",
        "    val_total = 0\n",
        "\n",
        "    for X_train, y_train in train_loader:\n",
        "      X_train, y_train = X_train.to(device), y_train.to(device)\n",
        "      optimizer.zero_grad()\n",
        "      y_pred = model(X_train)\n",
        "      loss = criterion(y_pred, y_train)\n",
        "      loss.backward()\n",
        "      optimizer.step()\n",
        "      training_loss += loss.data.item()\n",
        "      correct = torch.eq(torch.max(F.Softmax(y_pred, dim=1), dim=1)[1], y_train).view(-1)\n",
        "      train_correct += torch.sum(correct).item()\n",
        "      train_total += correct.shape[0]\n",
        "    training_loss /= len(train_loader)\n",
        "\n",
        "    model.eval()\n",
        "    for X_val, y_val in val_loader:\n",
        "      X_val, y_val = X_val.to(device), y_val.to(device)\n",
        "      optimizer.zero_grad()\n",
        "      y_pred = model(X_val)\n",
        "      loss = criterion(y_pred, y_val)\n",
        "      loss.backward()\n",
        "      optimizer.step()\n",
        "      val_loss = loss.data.item()\n",
        "      correct = torch.eq(torch.max(F.Softmax(y_pred, dim=1), dim=1)[1], y_val).view(-1)\n",
        "      val_correct += torch.sum(correct).item()\n",
        "      val_total += correct.shape[0]\n",
        "    val_loss /= len(val_loader)\n",
        "\n",
        "    print(f'Epoch: {epoch}, Training Loss: {training_loss:.2f}, Training_accuracy: {((train_correct / train_total) * 100):.2f},  Validation Loss: {val_loss:.2f}, val_accuracy = {((val_correct / val_total) * 100):.2f}%')\n"
      ],
      "metadata": {
        "id": "RegNy3XenOHM"
      },
      "execution_count": null,
      "outputs": []
    },
    {
      "cell_type": "code",
      "source": [
        "torch.save(simplenet, \"model/Fine-tuned-ResNet50.pkl\")"
      ],
      "metadata": {
        "id": "eURIQuPVnQwb"
      },
      "execution_count": null,
      "outputs": []
    }
  ]
}